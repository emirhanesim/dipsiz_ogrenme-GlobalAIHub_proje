{
 "cells": [
  {
   "cell_type": "code",
   "execution_count": 2,
   "metadata": {},
   "outputs": [],
   "source": [
    "import os,sys\n",
    "import matplotlib.pyplot as plt \n",
    "import numpy as np\n",
    "import torch.utils.data as data_utils\n",
    "import torchvision\n",
    "import torch.optim as optim\n",
    "import torch\n",
    "import torch.nn as nn\n",
    "import torch.nn.functional as F\n",
    "from numpy import ndarray"
   ]
  },
  {
   "cell_type": "code",
   "execution_count": 9,
   "metadata": {},
   "outputs": [],
   "source": [
    "device = 'cuda'"
   ]
  },
  {
   "cell_type": "code",
   "execution_count": 4,
   "metadata": {},
   "outputs": [],
   "source": [
    "#önişlemede kaydedilen tensörleri indirme\n",
    "os.chdir(r\"C:\\Users\\emirh\\Desktop\\ai_hub_proje\\tensors\")\n",
    "X_train_t = torch.load('X_train_t.pt')\n",
    "X_test_t = torch.load('X_test_t.pt')\n",
    "X_val_t = torch.load('X_val_t.pt')\n",
    "y_train_t = torch.load('y_train_t.pt')\n",
    "y_test_t = torch.load('y_test_t.pt')\n",
    "y_val_t = torch.load('y_val_t.pt')"
   ]
  },
  {
   "cell_type": "code",
   "execution_count": 5,
   "metadata": {},
   "outputs": [
    {
     "data": {
      "text/plain": [
       "(torch.Size([6112, 1, 128, 128]),\n",
       " torch.Size([1310, 1, 128, 128]),\n",
       " torch.Size([1310, 1, 128, 128]))"
      ]
     },
     "execution_count": 5,
     "metadata": {},
     "output_type": "execute_result"
    }
   ],
   "source": [
    "X_train_t.shape, X_test_t.shape, X_val_t.shape"
   ]
  },
  {
   "cell_type": "code",
   "execution_count": 6,
   "metadata": {},
   "outputs": [
    {
     "data": {
      "text/plain": [
       "(torch.Size([6112]), torch.Size([1310]), torch.Size([1310]))"
      ]
     },
     "execution_count": 6,
     "metadata": {},
     "output_type": "execute_result"
    }
   ],
   "source": [
    "y_train_t.shape, y_test_t.shape, y_val_t.shape"
   ]
  },
  {
   "cell_type": "code",
   "execution_count": 53,
   "metadata": {},
   "outputs": [],
   "source": [
    "train = data_utils.TensorDataset(X_train_t, y_train_t)\n",
    "train_loader = data_utils.DataLoader(train, batch_size=128, shuffle=True)\n",
    "test = data_utils.TensorDataset(X_test_t, y_test_t)\n",
    "test_loader = data_utils.DataLoader(test, batch_size=128, shuffle=True)\n",
    "val = data_utils.TensorDataset(X_val_t, y_val_t)\n",
    "val_loader = data_utils.DataLoader(val, batch_size=128, shuffle=True)"
   ]
  },
  {
   "cell_type": "code",
   "execution_count": 54,
   "metadata": {},
   "outputs": [],
   "source": [
    "#CNN modelini tanımlama\n",
    "class Net(nn.Module):\n",
    "    def __init__(self):\n",
    "        super().__init__()\n",
    "        self.conv1 = nn.Conv2d(in_channels=1, out_channels=16, kernel_size=3, stride=1, padding=2)\n",
    "        self.pool = nn.MaxPool2d(2, 2)\n",
    "        self.conv2 = nn.Conv2d(in_channels=16, out_channels=32, kernel_size=3, stride=1, padding=2)\n",
    "        self.conv3 = nn.Conv2d(in_channels=32, out_channels=64, kernel_size=3, stride=1, padding=2)\n",
    "        self.conv4 = nn.Conv2d(in_channels=64, out_channels=128, kernel_size=3, stride=1, padding=2)\n",
    "        self.fc1 = nn.Linear(in_features=128*9*9, out_features=10)\n",
    "        self.softmax = nn.Softmax(dim=1)\n",
    "    def forward(self, x):\n",
    "        x = self.pool(F.relu(self.conv1(x)))\n",
    "        x = self.pool(F.relu(self.conv2(x)))\n",
    "        x = self.pool(F.relu(self.conv3(x)))\n",
    "        x = self.pool(F.relu(self.conv4(x)))\n",
    "        x = torch.flatten(x,1)\n",
    "        x = self.fc1(x)\n",
    "        x = self.softmax(x)\n",
    "        return x\n",
    "net = Net()\n",
    "net = net.to(device)"
   ]
  },
  {
   "cell_type": "code",
   "execution_count": 55,
   "metadata": {},
   "outputs": [],
   "source": [
    "#Loss function ve optimizer tanımla\n",
    "criterion = nn.CrossEntropyLoss()\n",
    "optimizer = optim.Adam(net.parameters(), lr=0.001)"
   ]
  },
  {
   "cell_type": "code",
   "execution_count": 56,
   "metadata": {},
   "outputs": [
    {
     "name": "stdout",
     "output_type": "stream",
     "text": [
      "Epoch 1 \t\t Training Loss: 2.1180793220798173 \t\t Validation Loss: 5.32173059203408\n",
      "Validation Loss Decreased(inf--->58.539037) \t Saving The Model\n",
      "Epoch 2 \t\t Training Loss: 2.0253326346476874 \t\t Validation Loss: 5.871380242434415\n",
      "Epoch 3 \t\t Training Loss: 1.9979338000218074 \t\t Validation Loss: 5.5802223899147725\n",
      "Epoch 4 \t\t Training Loss: 1.963235671321551 \t\t Validation Loss: 5.315732522444292\n",
      "Validation Loss Decreased(58.539037--->58.473058) \t Saving The Model\n",
      "Epoch 5 \t\t Training Loss: 1.940329981346925 \t\t Validation Loss: 5.2422614531083545\n",
      "Validation Loss Decreased(58.473058--->57.664876) \t Saving The Model\n",
      "Epoch 6 \t\t Training Loss: 1.9235815902551014 \t\t Validation Loss: 5.440058599818837\n",
      "Epoch 7 \t\t Training Loss: 1.9072921176751454 \t\t Validation Loss: 5.4482456770810215\n",
      "Epoch 8 \t\t Training Loss: 1.904681958258152 \t\t Validation Loss: 4.956360080025413\n",
      "Validation Loss Decreased(57.664876--->54.519961) \t Saving The Model\n",
      "Epoch 9 \t\t Training Loss: 1.8854498689373334 \t\t Validation Loss: 5.570773211392489\n",
      "Epoch 10 \t\t Training Loss: 1.8763023217519124 \t\t Validation Loss: 5.385674780065363\n",
      "Epoch 11 \t\t Training Loss: 1.868695929646492 \t\t Validation Loss: 5.137033354152333\n",
      "Epoch 12 \t\t Training Loss: 1.8607192263007164 \t\t Validation Loss: 5.0135886669158936\n",
      "Epoch 13 \t\t Training Loss: 1.840973714987437 \t\t Validation Loss: 5.135425979440862\n",
      "Epoch 14 \t\t Training Loss: 1.8215038379033406 \t\t Validation Loss: 4.799823760986328\n",
      "Validation Loss Decreased(54.519961--->52.798061) \t Saving The Model\n",
      "Epoch 15 \t\t Training Loss: 1.8052892262736957 \t\t Validation Loss: 5.284978151321411\n",
      "Epoch 16 \t\t Training Loss: 1.7895996049046516 \t\t Validation Loss: 4.726322780955922\n",
      "Validation Loss Decreased(52.798061--->51.989551) \t Saving The Model\n",
      "Epoch 17 \t\t Training Loss: 1.7795111338297527 \t\t Validation Loss: 4.783675237135454\n",
      "Epoch 18 \t\t Training Loss: 1.7686370710531871 \t\t Validation Loss: 4.79345440864563\n",
      "Epoch 19 \t\t Training Loss: 1.7529504174987476 \t\t Validation Loss: 5.4040890390222724\n",
      "Epoch 20 \t\t Training Loss: 1.716390959918499 \t\t Validation Loss: 4.1942924802953545\n",
      "Validation Loss Decreased(51.989551--->46.137217) \t Saving The Model\n",
      "Epoch 21 \t\t Training Loss: 1.69027233372132 \t\t Validation Loss: 4.580196033824574\n",
      "Epoch 22 \t\t Training Loss: 1.668878714243571 \t\t Validation Loss: 4.965207143263384\n",
      "Epoch 23 \t\t Training Loss: 1.6587507451574008 \t\t Validation Loss: 4.865003715861928\n",
      "Epoch 24 \t\t Training Loss: 1.6487644910812378 \t\t Validation Loss: 4.829343015497381\n",
      "Epoch 25 \t\t Training Loss: 1.6463967363039653 \t\t Validation Loss: 4.704448960044167\n",
      "Epoch 26 \t\t Training Loss: 1.63247033705314 \t\t Validation Loss: 4.89421703598716\n",
      "Epoch 27 \t\t Training Loss: 1.6253706912199657 \t\t Validation Loss: 4.610098275271329\n",
      "Epoch 28 \t\t Training Loss: 1.630607396364212 \t\t Validation Loss: 4.6238227324052295\n",
      "Epoch 29 \t\t Training Loss: 1.6240924273928006 \t\t Validation Loss: 4.6466520699587734\n",
      "Epoch 30 \t\t Training Loss: 1.6186577528715134 \t\t Validation Loss: 4.259086522189054\n",
      "Epoch 31 \t\t Training Loss: 1.6144670074184735 \t\t Validation Loss: 4.951683933084661\n",
      "Epoch 32 \t\t Training Loss: 1.6119579325119655 \t\t Validation Loss: 4.420587041161277\n",
      "Epoch 33 \t\t Training Loss: 1.6156105597813923 \t\t Validation Loss: 4.709720069711858\n",
      "Epoch 34 \t\t Training Loss: 1.6114676346381505 \t\t Validation Loss: 4.526291110298851\n",
      "Epoch 35 \t\t Training Loss: 1.605030432343483 \t\t Validation Loss: 4.5267839865251025\n",
      "Epoch 36 \t\t Training Loss: 1.6020396550496419 \t\t Validation Loss: 4.524769241159612\n",
      "Epoch 37 \t\t Training Loss: 1.6000040471553802 \t\t Validation Loss: 4.606004086407748\n",
      "Epoch 38 \t\t Training Loss: 1.6015567978223164 \t\t Validation Loss: 4.63766715743325\n",
      "Epoch 39 \t\t Training Loss: 1.6009475563963254 \t\t Validation Loss: 4.968710270794955\n",
      "Epoch 40 \t\t Training Loss: 1.6023082459966342 \t\t Validation Loss: 4.674563624642112\n",
      "Epoch 41 \t\t Training Loss: 1.6005571633577347 \t\t Validation Loss: 4.432211897589943\n",
      "Epoch 42 \t\t Training Loss: 1.6017879446347554 \t\t Validation Loss: 4.754103964025324\n",
      "Epoch 43 \t\t Training Loss: 1.6021119380990665 \t\t Validation Loss: 4.4316982139240615\n",
      "Epoch 44 \t\t Training Loss: 1.598103828728199 \t\t Validation Loss: 4.612961899150502\n",
      "Epoch 45 \t\t Training Loss: 1.5954264104366302 \t\t Validation Loss: 4.707012176513672\n",
      "Epoch 46 \t\t Training Loss: 1.5933482175072033 \t\t Validation Loss: 4.4782278754494405\n",
      "Epoch 47 \t\t Training Loss: 1.5998336672782898 \t\t Validation Loss: 4.777665138244629\n",
      "Epoch 48 \t\t Training Loss: 1.6005624681711197 \t\t Validation Loss: 4.880964647639882\n",
      "Epoch 49 \t\t Training Loss: 1.594596805671851 \t\t Validation Loss: 4.342996098778465\n",
      "Epoch 50 \t\t Training Loss: 1.5929396450519562 \t\t Validation Loss: 4.447413357821378\n",
      "Epoch 51 \t\t Training Loss: 1.5936669011910756 \t\t Validation Loss: 4.166024273092097\n",
      "Validation Loss Decreased(46.137217--->45.826267) \t Saving The Model\n",
      "Epoch 52 \t\t Training Loss: 1.592411977549394 \t\t Validation Loss: 4.8513875224373555\n",
      "Epoch 53 \t\t Training Loss: 1.5918967425823212 \t\t Validation Loss: 4.612570134076205\n",
      "Epoch 54 \t\t Training Loss: 1.5917687267065048 \t\t Validation Loss: 4.3765175342559814\n",
      "Epoch 55 \t\t Training Loss: 1.5907098824779193 \t\t Validation Loss: 4.634383158250288\n",
      "Epoch 56 \t\t Training Loss: 1.5930139223734539 \t\t Validation Loss: 5.137392282485962\n",
      "Epoch 57 \t\t Training Loss: 1.5958671395977337 \t\t Validation Loss: 4.426377686587247\n",
      "Epoch 58 \t\t Training Loss: 1.5946130429704983 \t\t Validation Loss: 4.636063359000466\n",
      "Epoch 59 \t\t Training Loss: 1.5916156396269798 \t\t Validation Loss: 4.430091489445079\n",
      "Epoch 60 \t\t Training Loss: 1.5917566219965618 \t\t Validation Loss: 4.426581859588623\n",
      "Epoch 61 \t\t Training Loss: 1.5836130405465763 \t\t Validation Loss: 4.317508935928345\n",
      "Epoch 62 \t\t Training Loss: 1.5606494297583897 \t\t Validation Loss: 4.259251031008634\n",
      "Epoch 63 \t\t Training Loss: 1.5574940666556358 \t\t Validation Loss: 4.548450058156794\n",
      "Epoch 64 \t\t Training Loss: 1.557550425330798 \t\t Validation Loss: 4.82853120023554\n",
      "Epoch 65 \t\t Training Loss: 1.5537551095088322 \t\t Validation Loss: 4.690837968479503\n",
      "Epoch 66 \t\t Training Loss: 1.5528343295057614 \t\t Validation Loss: 4.80079098181291\n",
      "Epoch 67 \t\t Training Loss: 1.5505691766738892 \t\t Validation Loss: 4.6211489764126865\n",
      "Epoch 68 \t\t Training Loss: 1.5577479551235835 \t\t Validation Loss: 4.7924393957311455\n",
      "Epoch 69 \t\t Training Loss: 1.553121988972028 \t\t Validation Loss: 4.7069383751262315\n",
      "Epoch 70 \t\t Training Loss: 1.5599838122725487 \t\t Validation Loss: 4.379405541853472\n",
      "Epoch 71 \t\t Training Loss: 1.5561902225017548 \t\t Validation Loss: 4.3050218712199815\n",
      "Epoch 72 \t\t Training Loss: 1.5545451914270718 \t\t Validation Loss: 4.528340643102473\n",
      "Epoch 73 \t\t Training Loss: 1.5523628517985344 \t\t Validation Loss: 4.794246391816572\n",
      "Epoch 74 \t\t Training Loss: 1.551485116283099 \t\t Validation Loss: 4.247962019660256\n",
      "Epoch 75 \t\t Training Loss: 1.5487348188956578 \t\t Validation Loss: 4.437844861637462\n",
      "Epoch 76 \t\t Training Loss: 1.551152765750885 \t\t Validation Loss: 4.568997729908336\n",
      "Epoch 77 \t\t Training Loss: 1.5574514443675678 \t\t Validation Loss: 4.526335000991821\n",
      "Epoch 78 \t\t Training Loss: 1.555348036189874 \t\t Validation Loss: 4.452131444757635\n",
      "Epoch 79 \t\t Training Loss: 1.554655594130357 \t\t Validation Loss: 4.5450473915446885\n",
      "Epoch 80 \t\t Training Loss: 1.5497965961694717 \t\t Validation Loss: 4.442028132351962\n",
      "Epoch 81 \t\t Training Loss: 1.5524157881736755 \t\t Validation Loss: 4.695127552205866\n",
      "Epoch 82 \t\t Training Loss: 1.5528560330470402 \t\t Validation Loss: 4.0791733698411425\n",
      "Validation Loss Decreased(45.826267--->44.870907) \t Saving The Model\n",
      "Epoch 83 \t\t Training Loss: 1.550583394865195 \t\t Validation Loss: 4.617975841869008\n",
      "Epoch 84 \t\t Training Loss: 1.5490974163015683 \t\t Validation Loss: 4.621281623840332\n",
      "Epoch 85 \t\t Training Loss: 1.5466589728991191 \t\t Validation Loss: 4.043846238743175\n",
      "Validation Loss Decreased(44.870907--->44.482309) \t Saving The Model\n",
      "Epoch 86 \t\t Training Loss: 1.553779236972332 \t\t Validation Loss: 4.353534416718916\n",
      "Epoch 87 \t\t Training Loss: 1.5477988595763843 \t\t Validation Loss: 4.564126838337291\n",
      "Epoch 88 \t\t Training Loss: 1.5501926988363266 \t\t Validation Loss: 4.439830346540972\n",
      "Epoch 89 \t\t Training Loss: 1.5493126685420673 \t\t Validation Loss: 4.6187073534185235\n",
      "Epoch 90 \t\t Training Loss: 1.5486611699064572 \t\t Validation Loss: 4.50806899504228\n",
      "Epoch 91 \t\t Training Loss: 1.549448197086652 \t\t Validation Loss: 4.627489718523893\n",
      "Epoch 92 \t\t Training Loss: 1.5510235627492268 \t\t Validation Loss: 4.455757466229525\n",
      "Epoch 93 \t\t Training Loss: 1.545781172811985 \t\t Validation Loss: 4.414394877173684\n",
      "Epoch 94 \t\t Training Loss: 1.5486581102013588 \t\t Validation Loss: 4.42713358185508\n",
      "Epoch 95 \t\t Training Loss: 1.5509560505549114 \t\t Validation Loss: 5.170935175635598\n",
      "Epoch 96 \t\t Training Loss: 1.54352152099212 \t\t Validation Loss: 4.621320962905884\n",
      "Epoch 97 \t\t Training Loss: 1.5469065755605698 \t\t Validation Loss: 4.368396130475131\n",
      "Epoch 98 \t\t Training Loss: 1.5451942433913548 \t\t Validation Loss: 4.350715983997691\n",
      "Epoch 99 \t\t Training Loss: 1.5450898980100949 \t\t Validation Loss: 4.523304267363115\n",
      "Epoch 100 \t\t Training Loss: 1.5480699067314465 \t\t Validation Loss: 4.706244577061046\n",
      "Epoch 101 \t\t Training Loss: 1.5438967272639275 \t\t Validation Loss: 4.264530918814919\n",
      "Epoch 102 \t\t Training Loss: 1.545266571144263 \t\t Validation Loss: 4.7992001880298965\n",
      "Epoch 103 \t\t Training Loss: 1.54304455469052 \t\t Validation Loss: 4.605204625563188\n",
      "Epoch 104 \t\t Training Loss: 1.5424535870552063 \t\t Validation Loss: 4.5822228084911\n",
      "Epoch 105 \t\t Training Loss: 1.5424095292886097 \t\t Validation Loss: 4.171617247841575\n",
      "Epoch 106 \t\t Training Loss: 1.5426208848754566 \t\t Validation Loss: 4.8029305718161845\n",
      "Epoch 107 \t\t Training Loss: 1.544454425573349 \t\t Validation Loss: 4.322019598700783\n",
      "Epoch 108 \t\t Training Loss: 1.5503172427415848 \t\t Validation Loss: 4.8485258492556484\n",
      "Epoch 109 \t\t Training Loss: 1.5417617112398148 \t\t Validation Loss: 4.08134709705006\n",
      "Epoch 110 \t\t Training Loss: 1.5407457103331883 \t\t Validation Loss: 4.530537778680975\n",
      "Epoch 111 \t\t Training Loss: 1.5418016562859218 \t\t Validation Loss: 4.350174340334806\n",
      "Epoch 112 \t\t Training Loss: 1.5396918281912804 \t\t Validation Loss: 4.429911375045776\n",
      "Epoch 113 \t\t Training Loss: 1.5389310469230015 \t\t Validation Loss: 4.17221025987105\n",
      "Epoch 114 \t\t Training Loss: 1.538743995130062 \t\t Validation Loss: 4.3484135107560595\n",
      "Epoch 115 \t\t Training Loss: 1.5390651946266491 \t\t Validation Loss: 4.461726600473577\n",
      "Epoch 116 \t\t Training Loss: 1.5388594915469487 \t\t Validation Loss: 4.59519852291454\n",
      "Epoch 117 \t\t Training Loss: 1.5385633731881778 \t\t Validation Loss: 4.510155916213989\n",
      "Epoch 118 \t\t Training Loss: 1.5388744647304218 \t\t Validation Loss: 4.72140604799444\n",
      "Epoch 119 \t\t Training Loss: 1.5384897713859875 \t\t Validation Loss: 4.439261718229814\n",
      "Epoch 120 \t\t Training Loss: 1.5388019531965256 \t\t Validation Loss: 4.432938857512041\n",
      "Epoch 121 \t\t Training Loss: 1.5391227180759113 \t\t Validation Loss: 4.530762434005737\n",
      "Epoch 122 \t\t Training Loss: 1.5394675731658936 \t\t Validation Loss: 4.348532828417691\n",
      "Epoch 123 \t\t Training Loss: 1.540547641615073 \t\t Validation Loss: 4.264174266295\n",
      "Epoch 124 \t\t Training Loss: 1.548982433974743 \t\t Validation Loss: 4.621765721927989\n",
      "Epoch 125 \t\t Training Loss: 1.5482953836520512 \t\t Validation Loss: 4.6433963558890605\n",
      "Epoch 126 \t\t Training Loss: 1.5474888309836388 \t\t Validation Loss: 4.3676675449718125\n",
      "Epoch 127 \t\t Training Loss: 1.5483039418856304 \t\t Validation Loss: 4.570098248395053\n",
      "Epoch 128 \t\t Training Loss: 1.5449327404300373 \t\t Validation Loss: 4.439241235906428\n",
      "Epoch 129 \t\t Training Loss: 1.545968346297741 \t\t Validation Loss: 4.351153265346181\n",
      "Epoch 130 \t\t Training Loss: 1.5530417462189992 \t\t Validation Loss: 4.52222618189725\n",
      "Epoch 131 \t\t Training Loss: 1.548565352956454 \t\t Validation Loss: 4.613218090750954\n",
      "Epoch 132 \t\t Training Loss: 1.546697127322356 \t\t Validation Loss: 4.620196710933339\n",
      "Epoch 133 \t\t Training Loss: 1.5474422524372737 \t\t Validation Loss: 4.971153519370339\n",
      "Epoch 134 \t\t Training Loss: 1.5454730937878292 \t\t Validation Loss: 4.4218901070681484\n",
      "Epoch 135 \t\t Training Loss: 1.5462046166261036 \t\t Validation Loss: 4.773648977279663\n",
      "Epoch 136 \t\t Training Loss: 1.547278533379237 \t\t Validation Loss: 4.175577813928777\n",
      "Epoch 137 \t\t Training Loss: 1.5434219017624855 \t\t Validation Loss: 4.345360018990257\n",
      "Epoch 138 \t\t Training Loss: 1.5522958065072696 \t\t Validation Loss: 4.074694243344394\n",
      "Epoch 139 \t\t Training Loss: 1.5438551381230354 \t\t Validation Loss: 4.681311087174849\n",
      "Epoch 140 \t\t Training Loss: 1.549192726612091 \t\t Validation Loss: 4.668500856919722\n",
      "Epoch 141 \t\t Training Loss: 1.5441193108757336 \t\t Validation Loss: 4.712156490846113\n",
      "Epoch 142 \t\t Training Loss: 1.5439480692148209 \t\t Validation Loss: 4.349454207853838\n",
      "Epoch 143 \t\t Training Loss: 1.5427176877856255 \t\t Validation Loss: 4.621270569888028\n",
      "Epoch 144 \t\t Training Loss: 1.5396733433008194 \t\t Validation Loss: 4.257881316271695\n",
      "Epoch 145 \t\t Training Loss: 1.539023034274578 \t\t Validation Loss: 4.720702171325684\n",
      "Epoch 146 \t\t Training Loss: 1.5386443883180618 \t\t Validation Loss: 4.521399736404419\n",
      "Epoch 147 \t\t Training Loss: 1.5382752592364948 \t\t Validation Loss: 4.53041130846197\n",
      "Epoch 148 \t\t Training Loss: 1.5378442878524463 \t\t Validation Loss: 4.259932799772783\n",
      "Epoch 149 \t\t Training Loss: 1.5385489488641422 \t\t Validation Loss: 4.519332322207364\n",
      "Epoch 150 \t\t Training Loss: 1.53854717562596 \t\t Validation Loss: 4.166787971149791\n",
      "Epoch 151 \t\t Training Loss: 1.5372619479894638 \t\t Validation Loss: 4.51608115976507\n",
      "Epoch 152 \t\t Training Loss: 1.5372169415156047 \t\t Validation Loss: 4.712464375929399\n",
      "Epoch 153 \t\t Training Loss: 1.537725920478503 \t\t Validation Loss: 4.792640967802568\n",
      "Epoch 154 \t\t Training Loss: 1.5457773382465045 \t\t Validation Loss: 4.497374946420843\n",
      "Epoch 155 \t\t Training Loss: 1.5425324117143948 \t\t Validation Loss: 4.349600835279985\n",
      "Epoch 156 \t\t Training Loss: 1.5398733640710514 \t\t Validation Loss: 4.167651805010709\n",
      "Epoch 157 \t\t Training Loss: 1.5403448417782784 \t\t Validation Loss: 4.470977132970637\n",
      "Epoch 158 \t\t Training Loss: 1.5464352344473202 \t\t Validation Loss: 4.6213577010414815\n",
      "Epoch 159 \t\t Training Loss: 1.5416676203409831 \t\t Validation Loss: 4.438965537331321\n",
      "Epoch 160 \t\t Training Loss: 1.542582020163536 \t\t Validation Loss: 4.530568339607933\n",
      "Epoch 161 \t\t Training Loss: 1.5409631878137589 \t\t Validation Loss: 4.542489051818848\n",
      "Epoch 162 \t\t Training Loss: 1.540625775853793 \t\t Validation Loss: 4.433154734698209\n",
      "Epoch 163 \t\t Training Loss: 1.5492568587263424 \t\t Validation Loss: 4.373317089947787\n",
      "Epoch 164 \t\t Training Loss: 1.5549579833944638 \t\t Validation Loss: 4.5044452493841\n",
      "Epoch 165 \t\t Training Loss: 1.5503028308351834 \t\t Validation Loss: 4.794220707633278\n",
      "Epoch 166 \t\t Training Loss: 1.545086162785689 \t\t Validation Loss: 4.3440423228523946\n",
      "Epoch 167 \t\t Training Loss: 1.5436487669746082 \t\t Validation Loss: 4.166628989306363\n",
      "Epoch 168 \t\t Training Loss: 1.5404272973537445 \t\t Validation Loss: 4.528143947774714\n",
      "Epoch 169 \t\t Training Loss: 1.5418297400077183 \t\t Validation Loss: 4.53210483897816\n",
      "Epoch 170 \t\t Training Loss: 1.5413336803515751 \t\t Validation Loss: 4.257914153012362\n",
      "Epoch 171 \t\t Training Loss: 1.5427436456084251 \t\t Validation Loss: 4.166819832541726\n",
      "Epoch 172 \t\t Training Loss: 1.5434854875008266 \t\t Validation Loss: 4.721557877280495\n",
      "Epoch 173 \t\t Training Loss: 1.5428524737556775 \t\t Validation Loss: 4.43948279727589\n",
      "Epoch 174 \t\t Training Loss: 1.5432025815049808 \t\t Validation Loss: 4.439500678669322\n",
      "Epoch 175 \t\t Training Loss: 1.539717622101307 \t\t Validation Loss: 4.941099123521284\n",
      "Epoch 176 \t\t Training Loss: 1.5392906442284584 \t\t Validation Loss: 4.43937973542647\n",
      "Epoch 177 \t\t Training Loss: 1.5434832250078518 \t\t Validation Loss: 4.389731233770197\n",
      "Epoch 178 \t\t Training Loss: 1.5377137685815494 \t\t Validation Loss: 4.75333571434021\n",
      "Epoch 179 \t\t Training Loss: 1.5410937095681827 \t\t Validation Loss: 4.6213225884871045\n",
      "Epoch 180 \t\t Training Loss: 1.5394394397735596 \t\t Validation Loss: 4.439468492161144\n",
      "Epoch 181 \t\t Training Loss: 1.5391255617141724 \t\t Validation Loss: 4.62823521007191\n",
      "Epoch 182 \t\t Training Loss: 1.5390125488241513 \t\t Validation Loss: 4.530389525673606\n",
      "Epoch 183 \t\t Training Loss: 1.542202278971672 \t\t Validation Loss: 4.348593625155362\n",
      "Epoch 184 \t\t Training Loss: 1.5414884239435196 \t\t Validation Loss: 4.32155045596036\n",
      "Epoch 185 \t\t Training Loss: 1.5396543964743614 \t\t Validation Loss: 4.527465755289251\n",
      "Epoch 186 \t\t Training Loss: 1.5459480409820874 \t\t Validation Loss: 4.5299155061895195\n",
      "Epoch 187 \t\t Training Loss: 1.5433479274312656 \t\t Validation Loss: 4.535907398570668\n",
      "Epoch 188 \t\t Training Loss: 1.54219634582599 \t\t Validation Loss: 4.800638827410611\n",
      "Epoch 189 \t\t Training Loss: 1.5423970098296802 \t\t Validation Loss: 4.4395364414561875\n",
      "Epoch 190 \t\t Training Loss: 1.547482505440712 \t\t Validation Loss: 4.2576891725713555\n",
      "Epoch 191 \t\t Training Loss: 1.546090508500735 \t\t Validation Loss: 4.257683645595204\n",
      "Epoch 192 \t\t Training Loss: 1.541760432223479 \t\t Validation Loss: 4.439414847980846\n",
      "Epoch 193 \t\t Training Loss: 1.5407635966936748 \t\t Validation Loss: 4.723121686415239\n",
      "Epoch 194 \t\t Training Loss: 1.557629217704137 \t\t Validation Loss: 4.465585405176336\n",
      "Epoch 195 \t\t Training Loss: 1.5450067470471065 \t\t Validation Loss: 4.530404806137085\n",
      "Epoch 196 \t\t Training Loss: 1.5394722769657772 \t\t Validation Loss: 4.257683970711448\n",
      "Epoch 197 \t\t Training Loss: 1.541998768846194 \t\t Validation Loss: 4.528924226760864\n",
      "Epoch 198 \t\t Training Loss: 1.5390973016619682 \t\t Validation Loss: 4.348103674975309\n",
      "Epoch 199 \t\t Training Loss: 1.5370771984259288 \t\t Validation Loss: 4.616359038786455\n",
      "Epoch 200 \t\t Training Loss: 1.537288638452689 \t\t Validation Loss: 4.256296049464833\n"
     ]
    }
   ],
   "source": [
    "epochs = 200\n",
    "min_valid_loss = np.inf\n",
    "train_loss_list = []\n",
    "val_loss_list = []\n",
    "\n",
    "for e in range(epochs):\n",
    "    train_loss = 0.0\n",
    "    net.train()     # Optional when not using Model Specific layer\n",
    "    for data, labels in train_loader:\n",
    "        labels = labels.type(torch.LongTensor)\n",
    "        if torch.cuda.is_available():\n",
    "            data, labels = data.cuda(), labels.cuda()\n",
    "        \n",
    "        optimizer.zero_grad()\n",
    "        target = net(data)\n",
    "        loss = criterion(target,labels)\n",
    "        loss.backward()\n",
    "        optimizer.step()\n",
    "        train_loss += loss.item()\n",
    "    train_loss_list.append(train_loss/len(train_loader))\n",
    "    \n",
    "    valid_loss = 0.0\n",
    "    net.eval()     # Optional when not using Model Specific layer\n",
    "    for data, labels in val_loader:\n",
    "        labels = labels.type(torch.LongTensor)\n",
    "        if torch.cuda.is_available():\n",
    "            data, labels = data.cuda(), labels.cuda()\n",
    "        \n",
    "        target = net(data)\n",
    "        loss = criterion(target,labels)\n",
    "        valid_loss = loss.item() * data.size(0)\n",
    "    val_loss_list.append(valid_loss/len(val_loader))\n",
    "    print(f'Epoch {e+1} \\t\\t Training Loss: {train_loss / len(train_loader)} \\t\\t Validation Loss: {valid_loss / len(val_loader)}')\n",
    "    if min_valid_loss > valid_loss:\n",
    "        print(f'Validation Loss Decreased({min_valid_loss:.6f}--->{valid_loss:.6f}) \\t Saving The Model')\n",
    "        min_valid_loss = valid_loss\n",
    "        # net'i kaydet\n",
    "        torch.save(net.state_dict(), 'saved_model.pth')"
   ]
  },
  {
   "cell_type": "code",
   "execution_count": 57,
   "metadata": {},
   "outputs": [
    {
     "name": "stdout",
     "output_type": "stream",
     "text": [
      "GroundTruth:  air_conditioner // engine_idling // siren // engine_idling // gun_shot // air_conditioner // air_conditioner // dog_bark // jackhammer // drilling\n"
     ]
    }
   ],
   "source": [
    "#modelin test edilmesi için sample aldık\n",
    "classes = [\"air_conditioner\", \"car_horn\", \"children_playing\", \"dog_bark\", \"drilling\", \"engine_idling\", \"gun_shot\", \"jackhammer\", \"siren\", \"street_music\"]\n",
    "dataiter = iter(test_loader)\n",
    "images, labels = dataiter.next()\n",
    "print('GroundTruth: ', ' // '.join(f'{classes[labels[j]]:5s}' for j in range(10)))"
   ]
  },
  {
   "cell_type": "code",
   "execution_count": 58,
   "metadata": {},
   "outputs": [
    {
     "data": {
      "text/plain": [
       "<All keys matched successfully>"
      ]
     },
     "execution_count": 58,
     "metadata": {},
     "output_type": "execute_result"
    }
   ],
   "source": [
    "PATH = r\"C:\\Users\\emirh\\Desktop\\ai_hub_proje\\tensors\\saved_model.pth\"\n",
    "net = Net()\n",
    "net.load_state_dict(torch.load(PATH))"
   ]
  },
  {
   "cell_type": "code",
   "execution_count": 59,
   "metadata": {},
   "outputs": [],
   "source": [
    "outputs = net(images)"
   ]
  },
  {
   "cell_type": "code",
   "execution_count": 60,
   "metadata": {},
   "outputs": [
    {
     "name": "stdout",
     "output_type": "stream",
     "text": [
      "Predicted:  air_conditioner // engine_idling // siren // engine_idling // gun_shot // air_conditioner // jackhammer // dog_bark // jackhammer // drilling\n"
     ]
    }
   ],
   "source": [
    "#modeli test ediyoruz\n",
    "_, predicted = torch.max(outputs, 1)\n",
    "\n",
    "print('Predicted: ', ' // '.join(f'{classes[predicted[j]]:5s}' for j in range(10)))"
   ]
  },
  {
   "cell_type": "code",
   "execution_count": 61,
   "metadata": {},
   "outputs": [
    {
     "name": "stdout",
     "output_type": "stream",
     "text": [
      "Accuracy for class: air_conditioner is 84.5 %\n",
      "Accuracy for class: car_horn is 0.0 %\n",
      "Accuracy for class: children_playing is 69.1 %\n",
      "Accuracy for class: dog_bark is 83.1 %\n",
      "Accuracy for class: drilling is 85.9 %\n",
      "Accuracy for class: engine_idling is 94.4 %\n",
      "Accuracy for class: gun_shot is 94.8 %\n",
      "Accuracy for class: jackhammer is 90.9 %\n",
      "Accuracy for class: siren is 89.4 %\n",
      "Accuracy for class: street_music is 90.6 %\n"
     ]
    }
   ],
   "source": [
    "# her sınıf için accuracy hesaplama\n",
    "correct_pred = {classname: 0 for classname in classes}\n",
    "total_pred = {classname: 0 for classname in classes}\n",
    "\n",
    "\n",
    "with torch.no_grad():\n",
    "    for data in test_loader:\n",
    "        images, labels = data\n",
    "        outputs = net(images)\n",
    "        _, predictions = torch.max(outputs, 1)\n",
    "        for label, prediction in zip(labels, predictions):\n",
    "            if label == prediction:\n",
    "                correct_pred[classes[label]] += 1\n",
    "            total_pred[classes[label]] += 1\n",
    "\n",
    "\n",
    "for classname, correct_count in correct_pred.items():\n",
    "    accuracy = 100 * float(correct_count) / total_pred[classname]\n",
    "    print(f'Accuracy for class: {classname:5s} is {accuracy:.1f} %')"
   ]
  },
  {
   "cell_type": "code",
   "execution_count": 62,
   "metadata": {},
   "outputs": [
    {
     "name": "stdout",
     "output_type": "stream",
     "text": [
      "200 200\n"
     ]
    }
   ],
   "source": [
    "print(len(train_loss_list), len(val_loss_list))"
   ]
  },
  {
   "cell_type": "code",
   "execution_count": 65,
   "metadata": {},
   "outputs": [
    {
     "data": {
      "text/plain": [
       "<function matplotlib.pyplot.show(close=None, block=None)>"
      ]
     },
     "execution_count": 65,
     "metadata": {},
     "output_type": "execute_result"
    },
    {
     "data": {
      "image/png": "[encoded data removed]",
      "text/plain": [
       "<Figure size 432x288 with 1 Axes>"
      ]
     },
     "metadata": {
      "needs_background": "light"
     },
     "output_type": "display_data"
    }
   ],
   "source": [
    "#train ve validation loss grafikleri\n",
    "x = list(range(0,200))\n",
    "plt.plot(x, train_loss_list, label=\"train_loss\")\n",
    "plt.plot(x, val_loss_list, label=\"val_loss\")\n",
    "plt.legend()\n",
    "plt.show\n"
   ]
  },
  {
   "cell_type": "code",
   "execution_count": null,
   "metadata": {},
   "outputs": [],
   "source": []
  }
 ],
 "metadata": {
  "kernelspec": {
   "display_name": "Python 3.9.12 ('base')",
   "language": "python",
   "name": "python3"
  },
  "language_info": {
   "codemirror_mode": {
    "name": "ipython",
    "version": 3
   },
   "file_extension": ".py",
   "mimetype": "text/x-python",
   "name": "python",
   "nbconvert_exporter": "python",
   "pygments_lexer": "ipython3",
   "version": "3.9.12"
  },
  "orig_nbformat": 4,
  "vscode": {
   "interpreter": {
    "hash": "02f0e89a1197599f3dc7c16f0e4f47d78f3d8e79d75528e8a24eade9b59b02bf"
   }
  }
 },
 "nbformat": 4,
 "nbformat_minor": 2
}
